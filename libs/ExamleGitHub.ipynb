{
 "cells": [
  {
   "cell_type": "markdown",
   "metadata": {},
   "source": [
    "This Notebook is a simple tutorial about DataFrameTransformer, DataFrameAnalyzer and Utilities modules.\n",
    "\n",
    "-DataFrameTransformer is a dedicated module to easily make dataFrame transformations. \n",
    "\n",
    "-DataFrameAnalyzer is a dedicated module to plot and see important features of a spark\n",
    " Dataframe.\n",
    "\n",
    "-Utilities module contains tool classes that support use of DataFrameTransformer and DataFrameAnalyzer modules. "
   ]
  },
  {
   "cell_type": "markdown",
   "metadata": {},
   "source": [
    "#### Importing Modules"
   ]
  },
  {
   "cell_type": "code",
   "execution_count": 1,
   "metadata": {
    "collapsed": false,
    "scrolled": true
   },
   "outputs": [],
   "source": [
    "# Importing DataFrameTransformer library\n",
    "from DfTransf import DataFrameTransformer\n",
    "# Importing DataFrameAnalyzer library\n",
    "from DfAnalizer import DataFrameAnalizer\n",
    "# Importing Utility library\n",
    "from utilities import *\n",
    "# Setting notebook to show plots inline\n",
    "%matplotlib inline \n",
    "# Import module for system tools \n",
    "import os"
   ]
  },
  {
   "cell_type": "markdown",
   "metadata": {},
   "source": [
    "#### Instantiation of Utility class\n",
    "The utility class is a tool class that includes functions to read csv files, setting checkpoint issues (to save or temporally save dataFrames)."
   ]
  },
  {
   "cell_type": "code",
   "execution_count": 2,
   "metadata": {
    "collapsed": true
   },
   "outputs": [],
   "source": [
    "# Instance of Utilities class\n",
    "tools = Utilites(sc)"
   ]
  },
  {
   "cell_type": "markdown",
   "metadata": {},
   "source": [
    "#### Reading dataFrame"
   ]
  },
  {
   "cell_type": "code",
   "execution_count": 3,
   "metadata": {
    "collapsed": false
   },
   "outputs": [],
   "source": [
    "# Reading dataframe. os.getcwd() returns de current directory of the notebook \n",
    "# 'file:///' is a prefix that specifies the type of file system used, in this\n",
    "# case, local file system (hard drive of the pc) is used.\n",
    "filePath = \"file:///\" + os.getcwd() + \"/foo.csv\"\n",
    "\n",
    "df = tools.readDatasetCsv(path=filePath,\n",
    " delimiterMark=',')"
   ]
  },
  {
   "cell_type": "markdown",
   "metadata": {},
   "source": [
    "#### Instantiation of analyzer class"
   ]
  },
  {
   "cell_type": "code",
   "execution_count": 4,
   "metadata": {
    "collapsed": true
   },
   "outputs": [],
   "source": [
    "# Instance of analyzer class\n",
    "analyzer = DataFrameAnalizer(df=df,pathFile=filePath)"
   ]
  },
  {
   "cell_type": "markdown",
   "metadata": {},
   "source": [
    "DataFrameAnalizer has a method called columnAnalize. This method can check all rows of\n",
    "dataFrame and tries to parse each element of each row to determine if the corresponding \n",
    "element is a string or a number. Besides, it can show 20 distinct values of each column\n",
    "classified according the possible datatype value, i.e: a number can be a string, so this \n",
    "function can recognize a number in a column of string dataType by trying to parse the string. \n",
    "\n",
    "Also the function can plot numerical or categorical histograms."
   ]
  },
  {
   "cell_type": "markdown",
   "metadata": {},
   "source": [
    "#### General view of dataFrame"
   ]
  },
  {
   "cell_type": "markdown",
   "metadata": {},
   "source": [
    "Initially it is a good idea to see a general view of the DataFrame to be analyzed. \n",
    "\n",
    "In the following cell, the basic results of analyzing the DataFrame are made are shown. Basic results include a table that specifies the existing datatypes in each column dataFrame and other features. Also, for this particular case, the table of dataType is shown in order to visualize a sample of column content. "
   ]
  },
  {
   "cell_type": "code",
   "execution_count": 5,
   "metadata": {
    "collapsed": false,
    "scrolled": true
   },
   "outputs": [
    {
     "data": {
      "text/html": [
       "<table width=50%><tr><td colspan=3 ><b> Column name: </b>id</td></tr><tr><td colspan=3 ><b> Column datatype: </b>int</td></tr><tr><th>Datatype</td><th>Quantity</td><th>Percentage</td></tr><tr><td>None</td><td>0</td><td>0.00 %</td></tr><tr><td>Empty str</td><td>0</td><td>0.00 %</td></tr><tr><td>String</td><td>0</td><td>0.00 %</td></tr><tr><td>Integer</td><td>12</td><td>100.00 %</td></tr><tr><td>Float</td><td>0</td><td>0.00 %</td></tr></table>"
      ],
      "text/plain": [
       "<DfAnalizer.ColumnTables at 0x7f0805f1ae10>"
      ]
     },
     "metadata": {},
     "output_type": "display_data"
    },
    {
     "name": "stdout",
     "output_type": "stream",
     "text": [
      "Min value:  1\n",
      "Max value:  15\n"
     ]
    },
    {
     "data": {
      "text/html": [
       "<table width=50%><tr><th style='text-align: center'>integers</th></tr><tr><td style='vertical-align: top;text-align: center;'><table width=100%><tr ><td style='text-align: center'><div style='min-height: 20px;'>7</div></td></tr><tr ><td style='text-align: center'><div style='min-height: 20px;'>15</div></td></tr><tr ><td style='text-align: center'><div style='min-height: 20px;'>8</div></td></tr><tr ><td style='text-align: center'><div style='min-height: 20px;'>1</div></td></tr><tr ><td style='text-align: center'><div style='min-height: 20px;'>9</div></td></tr><tr ><td style='text-align: center'><div style='min-height: 20px;'>2</div></td></tr><tr ><td style='text-align: center'><div style='min-height: 20px;'>10</div></td></tr><tr ><td style='text-align: center'><div style='min-height: 20px;'>3</div></td></tr><tr ><td style='text-align: center'><div style='min-height: 20px;'>11</div></td></tr><tr ><td style='text-align: center'><div style='min-height: 20px;'>4</div></td></tr><tr ><td style='text-align: center'><div style='min-height: 20px;'>5</div></td></tr><tr ><td style='text-align: center'><div style='min-height: 20px;'>6</div></td></tr></table></td></tr></table>"
      ],
      "text/plain": [
       "<DfAnalizer.DataTypeTable at 0x7f07fee5d748>"
      ]
     },
     "metadata": {},
     "output_type": "display_data"
    },
    {
     "name": "stdout",
     "output_type": "stream",
     "text": [
      "No valid data to print histogram or plots argument set to False\n"
     ]
    },
    {
     "data": {
      "text/html": [
       "<table width=50%><tr><td colspan=3 ><b> Column name: </b>firstName</td></tr><tr><td colspan=3 ><b> Column datatype: </b>string</td></tr><tr><th>Datatype</td><th>Quantity</td><th>Percentage</td></tr><tr><td>None</td><td>0</td><td>0.00 %</td></tr><tr><td>Empty str</td><td>0</td><td>0.00 %</td></tr><tr><td>String</td><td>12</td><td>100.00 %</td></tr><tr><td>Integer</td><td>0</td><td>0.00 %</td></tr><tr><td>Float</td><td>0</td><td>0.00 %</td></tr></table>"
      ],
      "text/plain": [
       "<DfAnalizer.ColumnTables at 0x7f07fd2400f0>"
      ]
     },
     "metadata": {},
     "output_type": "display_data"
    },
    {
     "data": {
      "text/html": [
       "<table width=50%><tr><th style='text-align: center'>strings</th></tr><tr><td style='vertical-align: top;text-align: center;'><table width=100%><tr ><td style='text-align: center'><div style='min-height: 20px;'>   Alice   </div></td></tr><tr ><td style='text-align: center'><div style='min-height: 20px;'>K@@@@ate</div></td></tr><tr ><td style='text-align: center'><div style='min-height: 20px;'>Jose</div></td></tr><tr ><td style='text-align: center'><div style='min-height: 20px;'>AN%####NA</div></td></tr><tr ><td style='text-align: center'><div style='min-height: 20px;'>Bruno((()))   </div></td></tr><tr ><td style='text-align: center'><div style='min-height: 20px;'>Mary  </div></td></tr><tr ><td style='text-align: center'><div style='min-height: 20px;'>Bob</div></td></tr><tr ><td style='text-align: center'><div style='min-height: 20px;'>BRUNO</div></td></tr><tr ><td style='text-align: center'><div style='min-height: 20px;'>   AMANDA</div></td></tr><tr ><td style='text-align: center'><div style='min-height: 20px;'>Pe(/(ter</div></td></tr><tr ><td style='text-align: center'><div style='min-height: 20px;'>Alberto    </div></td></tr></table></td></tr></table>"
      ],
      "text/plain": [
       "<DfAnalizer.DataTypeTable at 0x7f07fd240240>"
      ]
     },
     "metadata": {},
     "output_type": "display_data"
    },
    {
     "name": "stdout",
     "output_type": "stream",
     "text": [
      "No valid data to print histogram or plots argument set to False\n"
     ]
    },
    {
     "data": {
      "text/html": [
       "<table width=50%><tr><td colspan=3 ><b> Column name: </b>lastName</td></tr><tr><td colspan=3 ><b> Column datatype: </b>string</td></tr><tr><th>Datatype</td><th>Quantity</td><th>Percentage</td></tr><tr><td>None</td><td>0</td><td>0.00 %</td></tr><tr><td>Empty str</td><td>0</td><td>0.00 %</td></tr><tr><td>String</td><td>12</td><td>100.00 %</td></tr><tr><td>Integer</td><td>0</td><td>0.00 %</td></tr><tr><td>Float</td><td>0</td><td>0.00 %</td></tr></table>"
      ],
      "text/plain": [
       "<DfAnalizer.ColumnTables at 0x7f07fee5d5f8>"
      ]
     },
     "metadata": {},
     "output_type": "display_data"
    },
    {
     "data": {
      "text/html": [
       "<table width=50%><tr><th style='text-align: center'>strings</th></tr><tr><td style='vertical-align: top;text-align: center;'><table width=100%><tr ><td style='text-align: center'><div style='min-height: 20px;'>Abonçado</div></td></tr><tr ><td style='text-align: center'><div style='min-height: 20px;'>Parker   </div></td></tr><tr ><td style='text-align: center'><div style='min-height: 20px;'>Quintero</div></td></tr><tr ><td style='text-align: center'><div style='min-height: 20px;'>    BUSH</div></td></tr><tr ><td style='text-align: center'><div style='min-height: 20px;'>GOMEZ</div></td></tr><tr ><td style='text-align: center'><div style='min-height: 20px;'>Briceño   </div></td></tr><tr ><td style='text-align: center'><div style='min-height: 20px;'>PENN&%&/   </div></td></tr><tr ><td style='text-align: center'><div style='min-height: 20px;'>Ibañez</div></td></tr><tr ><td style='text-align: center'><div style='min-height: 20px;'>Reyes</div></td></tr><tr ><td style='text-align: center'><div style='min-height: 20px;'>Mendoça</div></td></tr><tr ><td style='text-align: center'><div style='min-height: 20px;'>  SMITH     </div></td></tr></table></td></tr></table>"
      ],
      "text/plain": [
       "<DfAnalizer.DataTypeTable at 0x7f07fee5d748>"
      ]
     },
     "metadata": {},
     "output_type": "display_data"
    },
    {
     "name": "stdout",
     "output_type": "stream",
     "text": [
      "No valid data to print histogram or plots argument set to False\n"
     ]
    },
    {
     "ename": "KeyboardInterrupt",
     "evalue": "",
     "output_type": "error",
     "traceback": [
      "\u001b[1;31m---------------------------------------------------------------------------\u001b[0m",
      "\u001b[1;31mKeyboardInterrupt\u001b[0m                         Traceback (most recent call last)",
      "\u001b[1;32m<ipython-input-5-840f420bd435>\u001b[0m in \u001b[0;36m<module>\u001b[1;34m()\u001b[0m\n\u001b[1;32m----> 1\u001b[1;33m \u001b[0manalyzerJson\u001b[0m \u001b[1;33m=\u001b[0m \u001b[0manalyzer\u001b[0m\u001b[1;33m.\u001b[0m\u001b[0mcolumnAnalize\u001b[0m\u001b[1;33m(\u001b[0m\u001b[0mcolumnList\u001b[0m\u001b[1;33m=\u001b[0m\u001b[1;34m\"*\"\u001b[0m\u001b[1;33m,\u001b[0m \u001b[0mprintType\u001b[0m\u001b[1;33m=\u001b[0m\u001b[1;32mTrue\u001b[0m\u001b[1;33m,\u001b[0m \u001b[0mplots\u001b[0m\u001b[1;33m=\u001b[0m\u001b[1;32mFalse\u001b[0m\u001b[1;33m)\u001b[0m\u001b[1;33m\u001b[0m\u001b[0m\n\u001b[0m",
      "\u001b[1;32m/tmp/spark-6ed8b583-03b7-455d-a03a-074780b5d61c/userFiles-bd8b50cd-1098-4c1e-a264-925ef1a5532c/DfAnalizer.py\u001b[0m in \u001b[0;36mcolumnAnalize\u001b[1;34m(self, columnList, plots, valuesBar, printType, numBars)\u001b[0m\n\u001b[0;32m    242\u001b[0m                                                                     \u001b[0mvaluesBar\u001b[0m\u001b[1;33m=\u001b[0m\u001b[0mvaluesBar\u001b[0m\u001b[1;33m,\u001b[0m\u001b[1;33m\u001b[0m\u001b[0m\n\u001b[0;32m    243\u001b[0m                                                                     \u001b[0mnumBars\u001b[0m\u001b[1;33m=\u001b[0m\u001b[0mnumBars\u001b[0m\u001b[1;33m,\u001b[0m\u001b[1;33m\u001b[0m\u001b[0m\n\u001b[1;32m--> 244\u001b[1;33m                                                                     typesDict=types)\n\u001b[0m\u001b[0;32m    245\u001b[0m \u001b[1;33m\u001b[0m\u001b[0m\n\u001b[0;32m    246\u001b[0m             \u001b[1;31m# Save the invalid col if exists\u001b[0m\u001b[1;33m\u001b[0m\u001b[1;33m\u001b[0m\u001b[0m\n",
      "\u001b[1;32m/tmp/spark-6ed8b583-03b7-455d-a03a-074780b5d61c/userFiles-bd8b50cd-1098-4c1e-a264-925ef1a5532c/DfAnalizer.py\u001b[0m in \u001b[0;36m__analize\u001b[1;34m(self, dfColAnalizer, column, rowNumber, plots, printType, valuesBar, numBars, typesDict)\u001b[0m\n\u001b[0;32m    281\u001b[0m         \u001b[1;31m# Calling verification ruotine to obtain datatype's counts\u001b[0m\u001b[1;33m\u001b[0m\u001b[1;33m\u001b[0m\u001b[0m\n\u001b[0;32m    282\u001b[0m         \u001b[1;31m#returns: [number of nulls, number of strings, number of integers, number of floats]\u001b[0m\u001b[1;33m\u001b[0m\u001b[1;33m\u001b[0m\u001b[0m\n\u001b[1;32m--> 283\u001b[1;33m         \u001b[0mdtypeNumbers\u001b[0m \u001b[1;33m=\u001b[0m \u001b[0mself\u001b[0m\u001b[1;33m.\u001b[0m\u001b[0m__verification\u001b[0m\u001b[1;33m(\u001b[0m\u001b[0mdfColAnalizer\u001b[0m\u001b[1;33m.\u001b[0m\u001b[0mselect\u001b[0m\u001b[1;33m(\u001b[0m\u001b[0mcolumn\u001b[0m\u001b[1;33m)\u001b[0m\u001b[1;33m,\u001b[0m \u001b[0mcolumn\u001b[0m\u001b[1;33m)\u001b[0m\u001b[1;33m\u001b[0m\u001b[0m\n\u001b[0m\u001b[0;32m    284\u001b[0m \u001b[1;33m\u001b[0m\u001b[0m\n\u001b[0;32m    285\u001b[0m         \u001b[1;32mdef\u001b[0m \u001b[0mvalidColCheck\u001b[0m\u001b[1;33m(\u001b[0m\u001b[0mf\u001b[0m\u001b[1;33m)\u001b[0m\u001b[1;33m:\u001b[0m\u001b[1;33m\u001b[0m\u001b[0m\n",
      "\u001b[1;32m/tmp/spark-6ed8b583-03b7-455d-a03a-074780b5d61c/userFiles-bd8b50cd-1098-4c1e-a264-925ef1a5532c/DfAnalizer.py\u001b[0m in \u001b[0;36m__verification\u001b[1;34m(self, tempDf, columnName)\u001b[0m\n\u001b[0;32m    420\u001b[0m \u001b[1;33m\u001b[0m\u001b[0m\n\u001b[0;32m    421\u001b[0m             \u001b[0mnumbers\u001b[0m \u001b[1;33m=\u001b[0m \u001b[1;33m{\u001b[0m\u001b[1;33m}\u001b[0m\u001b[1;33m\u001b[0m\u001b[0m\n\u001b[1;32m--> 422\u001b[1;33m             \u001b[1;32mfor\u001b[0m \u001b[0mrow\u001b[0m \u001b[1;32min\u001b[0m \u001b[0mtypes\u001b[0m\u001b[1;33m.\u001b[0m\u001b[0mcollect\u001b[0m\u001b[1;33m(\u001b[0m\u001b[1;33m)\u001b[0m\u001b[1;33m:\u001b[0m \u001b[0mnumbers\u001b[0m\u001b[1;33m[\u001b[0m\u001b[0mrow\u001b[0m\u001b[1;33m[\u001b[0m\u001b[1;36m0\u001b[0m\u001b[1;33m]\u001b[0m\u001b[1;33m]\u001b[0m \u001b[1;33m=\u001b[0m \u001b[0mrow\u001b[0m\u001b[1;33m[\u001b[0m\u001b[1;36m1\u001b[0m\u001b[1;33m]\u001b[0m\u001b[1;33m\u001b[0m\u001b[0m\n\u001b[0m\u001b[0;32m    423\u001b[0m \u001b[1;33m\u001b[0m\u001b[0m\n\u001b[0;32m    424\u001b[0m             \u001b[1;31m# completing values of rest types:\u001b[0m\u001b[1;33m\u001b[0m\u001b[1;33m\u001b[0m\u001b[0m\n",
      "\u001b[1;32m/opt/spark/python/pyspark/sql/dataframe.py\u001b[0m in \u001b[0;36mcollect\u001b[1;34m(self)\u001b[0m\n\u001b[0;32m    278\u001b[0m         \"\"\"\n\u001b[0;32m    279\u001b[0m         \u001b[1;32mwith\u001b[0m \u001b[0mSCCallSiteSync\u001b[0m\u001b[1;33m(\u001b[0m\u001b[0mself\u001b[0m\u001b[1;33m.\u001b[0m\u001b[0m_sc\u001b[0m\u001b[1;33m)\u001b[0m \u001b[1;32mas\u001b[0m \u001b[0mcss\u001b[0m\u001b[1;33m:\u001b[0m\u001b[1;33m\u001b[0m\u001b[0m\n\u001b[1;32m--> 280\u001b[1;33m             \u001b[0mport\u001b[0m \u001b[1;33m=\u001b[0m \u001b[0mself\u001b[0m\u001b[1;33m.\u001b[0m\u001b[0m_jdf\u001b[0m\u001b[1;33m.\u001b[0m\u001b[0mcollectToPython\u001b[0m\u001b[1;33m(\u001b[0m\u001b[1;33m)\u001b[0m\u001b[1;33m\u001b[0m\u001b[0m\n\u001b[0m\u001b[0;32m    281\u001b[0m         \u001b[1;32mreturn\u001b[0m \u001b[0mlist\u001b[0m\u001b[1;33m(\u001b[0m\u001b[0m_load_from_socket\u001b[0m\u001b[1;33m(\u001b[0m\u001b[0mport\u001b[0m\u001b[1;33m,\u001b[0m \u001b[0mBatchedSerializer\u001b[0m\u001b[1;33m(\u001b[0m\u001b[0mPickleSerializer\u001b[0m\u001b[1;33m(\u001b[0m\u001b[1;33m)\u001b[0m\u001b[1;33m)\u001b[0m\u001b[1;33m)\u001b[0m\u001b[1;33m)\u001b[0m\u001b[1;33m\u001b[0m\u001b[0m\n\u001b[0;32m    282\u001b[0m \u001b[1;33m\u001b[0m\u001b[0m\n",
      "\u001b[1;32m/opt/spark/python/lib/py4j-0.9-src.zip/py4j/java_gateway.py\u001b[0m in \u001b[0;36m__call__\u001b[1;34m(self, *args)\u001b[0m\n\u001b[0;32m    809\u001b[0m             \u001b[0mproto\u001b[0m\u001b[1;33m.\u001b[0m\u001b[0mEND_COMMAND_PART\u001b[0m\u001b[1;33m\u001b[0m\u001b[0m\n\u001b[0;32m    810\u001b[0m \u001b[1;33m\u001b[0m\u001b[0m\n\u001b[1;32m--> 811\u001b[1;33m         \u001b[0manswer\u001b[0m \u001b[1;33m=\u001b[0m \u001b[0mself\u001b[0m\u001b[1;33m.\u001b[0m\u001b[0mgateway_client\u001b[0m\u001b[1;33m.\u001b[0m\u001b[0msend_command\u001b[0m\u001b[1;33m(\u001b[0m\u001b[0mcommand\u001b[0m\u001b[1;33m)\u001b[0m\u001b[1;33m\u001b[0m\u001b[0m\n\u001b[0m\u001b[0;32m    812\u001b[0m         return_value = get_return_value(\n\u001b[0;32m    813\u001b[0m             answer, self.gateway_client, self.target_id, self.name)\n",
      "\u001b[1;32m/opt/spark/python/lib/py4j-0.9-src.zip/py4j/java_gateway.py\u001b[0m in \u001b[0;36msend_command\u001b[1;34m(self, command, retry)\u001b[0m\n\u001b[0;32m    624\u001b[0m         \u001b[0mconnection\u001b[0m \u001b[1;33m=\u001b[0m \u001b[0mself\u001b[0m\u001b[1;33m.\u001b[0m\u001b[0m_get_connection\u001b[0m\u001b[1;33m(\u001b[0m\u001b[1;33m)\u001b[0m\u001b[1;33m\u001b[0m\u001b[0m\n\u001b[0;32m    625\u001b[0m         \u001b[1;32mtry\u001b[0m\u001b[1;33m:\u001b[0m\u001b[1;33m\u001b[0m\u001b[0m\n\u001b[1;32m--> 626\u001b[1;33m             \u001b[0mresponse\u001b[0m \u001b[1;33m=\u001b[0m \u001b[0mconnection\u001b[0m\u001b[1;33m.\u001b[0m\u001b[0msend_command\u001b[0m\u001b[1;33m(\u001b[0m\u001b[0mcommand\u001b[0m\u001b[1;33m)\u001b[0m\u001b[1;33m\u001b[0m\u001b[0m\n\u001b[0m\u001b[0;32m    627\u001b[0m             \u001b[0mself\u001b[0m\u001b[1;33m.\u001b[0m\u001b[0m_give_back_connection\u001b[0m\u001b[1;33m(\u001b[0m\u001b[0mconnection\u001b[0m\u001b[1;33m)\u001b[0m\u001b[1;33m\u001b[0m\u001b[0m\n\u001b[0;32m    628\u001b[0m         \u001b[1;32mexcept\u001b[0m \u001b[0mPy4JNetworkError\u001b[0m\u001b[1;33m:\u001b[0m\u001b[1;33m\u001b[0m\u001b[0m\n",
      "\u001b[1;32m/opt/spark/python/lib/py4j-0.9-src.zip/py4j/java_gateway.py\u001b[0m in \u001b[0;36msend_command\u001b[1;34m(self, command)\u001b[0m\n\u001b[0;32m    738\u001b[0m         \u001b[1;32mtry\u001b[0m\u001b[1;33m:\u001b[0m\u001b[1;33m\u001b[0m\u001b[0m\n\u001b[0;32m    739\u001b[0m             \u001b[0mself\u001b[0m\u001b[1;33m.\u001b[0m\u001b[0msocket\u001b[0m\u001b[1;33m.\u001b[0m\u001b[0msendall\u001b[0m\u001b[1;33m(\u001b[0m\u001b[0mcommand\u001b[0m\u001b[1;33m.\u001b[0m\u001b[0mencode\u001b[0m\u001b[1;33m(\u001b[0m\u001b[1;34m\"utf-8\"\u001b[0m\u001b[1;33m)\u001b[0m\u001b[1;33m)\u001b[0m\u001b[1;33m\u001b[0m\u001b[0m\n\u001b[1;32m--> 740\u001b[1;33m             \u001b[0manswer\u001b[0m \u001b[1;33m=\u001b[0m \u001b[0msmart_decode\u001b[0m\u001b[1;33m(\u001b[0m\u001b[0mself\u001b[0m\u001b[1;33m.\u001b[0m\u001b[0mstream\u001b[0m\u001b[1;33m.\u001b[0m\u001b[0mreadline\u001b[0m\u001b[1;33m(\u001b[0m\u001b[1;33m)\u001b[0m\u001b[1;33m[\u001b[0m\u001b[1;33m:\u001b[0m\u001b[1;33m-\u001b[0m\u001b[1;36m1\u001b[0m\u001b[1;33m]\u001b[0m\u001b[1;33m)\u001b[0m\u001b[1;33m\u001b[0m\u001b[0m\n\u001b[0m\u001b[0;32m    741\u001b[0m             \u001b[0mlogger\u001b[0m\u001b[1;33m.\u001b[0m\u001b[0mdebug\u001b[0m\u001b[1;33m(\u001b[0m\u001b[1;34m\"Answer received: {0}\"\u001b[0m\u001b[1;33m.\u001b[0m\u001b[0mformat\u001b[0m\u001b[1;33m(\u001b[0m\u001b[0manswer\u001b[0m\u001b[1;33m)\u001b[0m\u001b[1;33m)\u001b[0m\u001b[1;33m\u001b[0m\u001b[0m\n\u001b[0;32m    742\u001b[0m             \u001b[1;31m# Happens when a the other end is dead. There might be an empty\u001b[0m\u001b[1;33m\u001b[0m\u001b[1;33m\u001b[0m\u001b[0m\n",
      "\u001b[1;32m/opt/anaconda/lib/python3.5/socket.py\u001b[0m in \u001b[0;36mreadinto\u001b[1;34m(self, b)\u001b[0m\n\u001b[0;32m    573\u001b[0m         \u001b[1;32mwhile\u001b[0m \u001b[1;32mTrue\u001b[0m\u001b[1;33m:\u001b[0m\u001b[1;33m\u001b[0m\u001b[0m\n\u001b[0;32m    574\u001b[0m             \u001b[1;32mtry\u001b[0m\u001b[1;33m:\u001b[0m\u001b[1;33m\u001b[0m\u001b[0m\n\u001b[1;32m--> 575\u001b[1;33m                 \u001b[1;32mreturn\u001b[0m \u001b[0mself\u001b[0m\u001b[1;33m.\u001b[0m\u001b[0m_sock\u001b[0m\u001b[1;33m.\u001b[0m\u001b[0mrecv_into\u001b[0m\u001b[1;33m(\u001b[0m\u001b[0mb\u001b[0m\u001b[1;33m)\u001b[0m\u001b[1;33m\u001b[0m\u001b[0m\n\u001b[0m\u001b[0;32m    576\u001b[0m             \u001b[1;32mexcept\u001b[0m \u001b[0mtimeout\u001b[0m\u001b[1;33m:\u001b[0m\u001b[1;33m\u001b[0m\u001b[0m\n\u001b[0;32m    577\u001b[0m                 \u001b[0mself\u001b[0m\u001b[1;33m.\u001b[0m\u001b[0m_timeout_occurred\u001b[0m \u001b[1;33m=\u001b[0m \u001b[1;32mTrue\u001b[0m\u001b[1;33m\u001b[0m\u001b[0m\n",
      "\u001b[1;31mKeyboardInterrupt\u001b[0m: "
     ]
    }
   ],
   "source": [
    "analyzerJson = analyzer.columnAnalize(columnList=\"*\", printType=True, plots=False)"
   ]
  },
  {
   "cell_type": "markdown",
   "metadata": {},
   "source": [
    "The results obtained by running the analyzer class, details the presence of special chars, \n",
    "string columns with possible numbers on them and None and empty string values in columns."
   ]
  },
  {
   "cell_type": "markdown",
   "metadata": {},
   "source": [
    "#### Instantiation of DataFrameTransformer\n",
    "DataFrameTransformer is a specialized class to make dataFrame transformations. Transformations are optimized as much as possible to internally used native spark \n",
    "transformation functions."
   ]
  },
  {
   "cell_type": "code",
   "execution_count": 6,
   "metadata": {
    "collapsed": false
   },
   "outputs": [],
   "source": [
    "# Instance of transformer class \n",
    "transformer = DataFrameTransformer(df)"
   ]
  },
  {
   "cell_type": "markdown",
   "metadata": {},
   "source": [
    "#### Trimming blanck spaces at beginning and endings of cells dataFrames"
   ]
  },
  {
   "cell_type": "code",
   "execution_count": 7,
   "metadata": {
    "collapsed": false
   },
   "outputs": [
    {
     "name": "stdout",
     "output_type": "stream",
     "text": [
      "Original dataFrame:\n",
      "+---+-----------+-----------+---------+------------+-----+----------+--------+\n",
      "| id|  firstName|   lastName|billingId|     product|price|bornClient|dummyCol|\n",
      "+---+-----------+-----------+---------+------------+-----+----------+--------+\n",
      "|  1|     Mary  |PENN&%&/   |       10|hamburguer  |   15|1981/09/12|    null|\n",
      "|  2|   Pe(/(ter|  Parker   |       11|         ber|    5|1982/08/13|   dummy|\n",
      "|  3|        Bob|       BUSH|       12|       pizza|   20|1982/07/24|    this|\n",
      "|  4|  AN%####NA|     Ibañez|       13|       pasta|   21|1982/09/13|  column|\n",
      "|  5|   Alice   |      GOMEZ|       14|      mojito|    6|1982/07/24|      is|\n",
      "+---+-----------+-----------+---------+------------+-----+----------+--------+\n",
      "only showing top 5 rows\n",
      "\n",
      "Trimmed dataFrame:\n",
      "+---+---------+--------+---------+----------+-----+----------+--------+\n",
      "| id|firstName|lastName|billingId|   product|price|bornClient|dummyCol|\n",
      "+---+---------+--------+---------+----------+-----+----------+--------+\n",
      "|  1|     Mary|PENN&%&/|       10|hamburguer|   15|1981/09/12|    null|\n",
      "|  2| Pe(/(ter|  Parker|       11|       ber|    5|1982/08/13|   dummy|\n",
      "|  3|      Bob|    BUSH|       12|     pizza|   20|1982/07/24|    this|\n",
      "|  4|AN%####NA|  Ibañez|       13|     pasta|   21|1982/09/13|  column|\n",
      "|  5|    Alice|   GOMEZ|       14|    mojito|    6|1982/07/24|      is|\n",
      "+---+---------+--------+---------+----------+-----+----------+--------+\n",
      "only showing top 5 rows\n",
      "\n"
     ]
    }
   ],
   "source": [
    "# Printing of original dataFrame:\n",
    "print('Original dataFrame:')\n",
    "transformer.getDataframe().show(5)\n",
    "\n",
    "# Triming string blank spaces:\n",
    "transformer.trimCol(\"*\")\n",
    "\n",
    "# Printing trimmed dataFrame:\n",
    "print('Trimmed dataFrame:')\n",
    "transformer.getDataframe().show(5)"
   ]
  },
  {
   "cell_type": "markdown",
   "metadata": {},
   "source": [
    "#### Removing especial chars and accents:"
   ]
  },
  {
   "cell_type": "code",
   "execution_count": 8,
   "metadata": {
    "collapsed": false,
    "scrolled": true
   },
   "outputs": [
    {
     "name": "stdout",
     "output_type": "stream",
     "text": [
      "Original dataFrame:\n",
      "+---+---------+--------+---------+----------+-----+----------+--------+\n",
      "| id|firstName|lastName|billingId|   product|price|bornClient|dummyCol|\n",
      "+---+---------+--------+---------+----------+-----+----------+--------+\n",
      "|  1|     Mary|PENN&%&/|       10|hamburguer|   15|1981/09/12|    null|\n",
      "|  2| Pe(/(ter|  Parker|       11|       ber|    5|1982/08/13|   dummy|\n",
      "|  3|      Bob|    BUSH|       12|     pizza|   20|1982/07/24|    this|\n",
      "|  4|AN%####NA|  Ibañez|       13|     pasta|   21|1982/09/13|  column|\n",
      "|  5|    Alice|   GOMEZ|       14|    mojito|    6|1982/07/24|      is|\n",
      "+---+---------+--------+---------+----------+-----+----------+--------+\n",
      "only showing top 5 rows\n",
      "\n",
      "Removing special chars and accents dataFrame:\n",
      "+---+---------+--------+---------+----------+-----+----------+--------+\n",
      "| id|firstName|lastName|billingId|   product|price|bornClient|dummyCol|\n",
      "+---+---------+--------+---------+----------+-----+----------+--------+\n",
      "|  1|     Mary|    PENN|       10|hamburguer|   15|  19810912|    null|\n",
      "|  2|    Peter|  Parker|       11|       ber|    5|  19820813|   dummy|\n",
      "|  3|      Bob|    BUSH|       12|     pizza|   20|  19820724|    this|\n",
      "|  4|     ANNA|  Ibanez|       13|     pasta|   21|  19820913|  column|\n",
      "|  5|    Alice|   GOMEZ|       14|    mojito|    6|  19820724|      is|\n",
      "+---+---------+--------+---------+----------+-----+----------+--------+\n",
      "only showing top 5 rows\n",
      "\n"
     ]
    }
   ],
   "source": [
    "# Printing of original dataFrame:\n",
    "print('Original dataFrame:')\n",
    "transformer.getDataframe().show(5)\n",
    "\n",
    "# Remove special chars:\n",
    "transformer.removeSpecialChars(\"*\").clearAccents(\"*\")\n",
    "\n",
    "# Printing trimmed dataFrame:\n",
    "print('Removing special chars and accents dataFrame:')\n",
    "transformer.getDataframe().show(5)"
   ]
  },
  {
   "cell_type": "markdown",
   "metadata": {},
   "source": [
    "#### Drop dummy column"
   ]
  },
  {
   "cell_type": "code",
   "execution_count": 9,
   "metadata": {
    "collapsed": false
   },
   "outputs": [
    {
     "name": "stdout",
     "output_type": "stream",
     "text": [
      "Original dataFrame:\n",
      "+---+---------+--------+---------+----------+-----+----------+--------+\n",
      "| id|firstName|lastName|billingId|   product|price|bornClient|dummyCol|\n",
      "+---+---------+--------+---------+----------+-----+----------+--------+\n",
      "|  1|     Mary|    PENN|       10|hamburguer|   15|  19810912|    null|\n",
      "|  2|    Peter|  Parker|       11|       ber|    5|  19820813|   dummy|\n",
      "|  3|      Bob|    BUSH|       12|     pizza|   20|  19820724|    this|\n",
      "|  4|     ANNA|  Ibanez|       13|     pasta|   21|  19820913|  column|\n",
      "|  5|    Alice|   GOMEZ|       14|    mojito|    6|  19820724|      is|\n",
      "+---+---------+--------+---------+----------+-----+----------+--------+\n",
      "only showing top 5 rows\n",
      "\n",
      "Dataframe without dummy column:\n",
      "+---+---------+--------+---------+----------+-----+----------+\n",
      "| id|firstName|lastName|billingId|   product|price|bornClient|\n",
      "+---+---------+--------+---------+----------+-----+----------+\n",
      "|  1|     Mary|    PENN|       10|hamburguer|   15|  19810912|\n",
      "|  2|    Peter|  Parker|       11|       ber|    5|  19820813|\n",
      "|  3|      Bob|    BUSH|       12|     pizza|   20|  19820724|\n",
      "|  4|     ANNA|  Ibanez|       13|     pasta|   21|  19820913|\n",
      "|  5|    Alice|   GOMEZ|       14|    mojito|    6|  19820724|\n",
      "+---+---------+--------+---------+----------+-----+----------+\n",
      "only showing top 5 rows\n",
      "\n"
     ]
    }
   ],
   "source": [
    "# Printing of original dataFrame:\n",
    "print('Original dataFrame:')\n",
    "transformer.getDataframe().show(5)\n",
    "\n",
    "# Droping a column:\n",
    "transformer.dropCol(\"dummyCol\")\n",
    "\n",
    "# Printing trimmed dataFrame:\n",
    "print('Dataframe without dummy column:')\n",
    "transformer.getDataframe().show(5)"
   ]
  },
  {
   "cell_type": "markdown",
   "metadata": {},
   "source": [
    "#### Setting all letters to lowerCase"
   ]
  },
  {
   "cell_type": "code",
   "execution_count": 10,
   "metadata": {
    "collapsed": false
   },
   "outputs": [
    {
     "name": "stdout",
     "output_type": "stream",
     "text": [
      "Original dataFrame:\n",
      "+---+---------+--------+---------+----------+-----+----------+\n",
      "| id|firstName|lastName|billingId|   product|price|bornClient|\n",
      "+---+---------+--------+---------+----------+-----+----------+\n",
      "|  1|     Mary|    PENN|       10|hamburguer|   15|  19810912|\n",
      "|  2|    Peter|  Parker|       11|       ber|    5|  19820813|\n",
      "|  3|      Bob|    BUSH|       12|     pizza|   20|  19820724|\n",
      "|  4|     ANNA|  Ibanez|       13|     pasta|   21|  19820913|\n",
      "|  5|    Alice|   GOMEZ|       14|    mojito|    6|  19820724|\n",
      "+---+---------+--------+---------+----------+-----+----------+\n",
      "only showing top 5 rows\n",
      "\n",
      "Setting all letters to lowerCase:\n",
      "+---+---------+--------+---------+----------+-----+----------+\n",
      "| id|firstName|lastName|billingId|   product|price|bornClient|\n",
      "+---+---------+--------+---------+----------+-----+----------+\n",
      "|  1|     mary|    penn|       10|hamburguer|   15|  19810912|\n",
      "|  2|    peter|  parker|       11|       ber|    5|  19820813|\n",
      "|  3|      bob|    bush|       12|     pizza|   20|  19820724|\n",
      "|  4|     anna|  ibanez|       13|     pasta|   21|  19820913|\n",
      "|  5|    alice|   gomez|       14|    mojito|    6|  19820724|\n",
      "+---+---------+--------+---------+----------+-----+----------+\n",
      "only showing top 5 rows\n",
      "\n"
     ]
    }
   ],
   "source": [
    "# Printing of original dataFrame:\n",
    "print('Original dataFrame:')\n",
    "transformer.getDataframe().show(5)\n",
    "\n",
    "print('Setting all letters to lowerCase:')\n",
    "transformer.lowerCase(\"*\")\n",
    "transformer.getDataframe().show(5)"
   ]
  },
  {
   "cell_type": "markdown",
   "metadata": {},
   "source": [
    "#### Date Transformation (Format of date is changed)"
   ]
  },
  {
   "cell_type": "code",
   "execution_count": 11,
   "metadata": {
    "collapsed": false
   },
   "outputs": [
    {
     "name": "stdout",
     "output_type": "stream",
     "text": [
      "Original dataFrame:\n",
      "+---+---------+--------+---------+----------+-----+----------+\n",
      "| id|firstName|lastName|billingId|   product|price|bornClient|\n",
      "+---+---------+--------+---------+----------+-----+----------+\n",
      "|  1|     mary|    penn|       10|hamburguer|   15|  19810912|\n",
      "|  2|    peter|  parker|       11|       ber|    5|  19820813|\n",
      "|  3|      bob|    bush|       12|     pizza|   20|  19820724|\n",
      "|  4|     anna|  ibanez|       13|     pasta|   21|  19820913|\n",
      "|  5|    alice|   gomez|       14|    mojito|    6|  19820724|\n",
      "+---+---------+--------+---------+----------+-----+----------+\n",
      "only showing top 5 rows\n",
      "\n",
      "Dataframe without dummy column:\n",
      "+---+---------+--------+---------+----------+-----+----------+\n",
      "| id|firstName|lastName|billingId|   product|price|bornClient|\n",
      "+---+---------+--------+---------+----------+-----+----------+\n",
      "|  1|     mary|    penn|       10|hamburguer|   15|12-09-1981|\n",
      "|  2|    peter|  parker|       11|       ber|    5|13-08-1982|\n",
      "|  3|      bob|    bush|       12|     pizza|   20|24-07-1982|\n",
      "|  4|     anna|  ibanez|       13|     pasta|   21|13-09-1982|\n",
      "|  5|    alice|   gomez|       14|    mojito|    6|24-07-1982|\n",
      "+---+---------+--------+---------+----------+-----+----------+\n",
      "only showing top 5 rows\n",
      "\n"
     ]
    }
   ],
   "source": [
    "# Printing of original dataFrame:\n",
    "print('Original dataFrame:')\n",
    "transformer.getDataframe().show(5)\n",
    "\n",
    "# Priting the new date format:\n",
    "print('Dataframe without dummy column:')\n",
    "transformer.dateTransform(\"bornClient\", \"yyyyMMdd\", \"dd-MM-YYYY\") \\\n",
    "           .getDataframe() \\\n",
    "           .show(5)"
   ]
  },
  {
   "cell_type": "markdown",
   "metadata": {},
   "source": [
    "#### Age calculation from born date client"
   ]
  },
  {
   "cell_type": "code",
   "execution_count": 12,
   "metadata": {
    "collapsed": false
   },
   "outputs": [
    {
     "name": "stdout",
     "output_type": "stream",
     "text": [
      "Original dataFrame:\n",
      "+---+---------+--------+---------+----------+-----+----------+\n",
      "| id|firstName|lastName|billingId|   product|price|bornClient|\n",
      "+---+---------+--------+---------+----------+-----+----------+\n",
      "|  1|     mary|    penn|       10|hamburguer|   15|12-09-1981|\n",
      "|  2|    peter|  parker|       11|       ber|    5|13-08-1982|\n",
      "|  3|      bob|    bush|       12|     pizza|   20|24-07-1982|\n",
      "|  4|     anna|  ibanez|       13|     pasta|   21|13-09-1982|\n",
      "|  5|    alice|   gomez|       14|    mojito|    6|24-07-1982|\n",
      "+---+---------+--------+---------+----------+-----+----------+\n",
      "only showing top 5 rows\n",
      "\n",
      "Printing calculation of age born date client\n",
      "+---+---------+--------+---------+----------+-----+----------+---------+\n",
      "| id|firstName|lastName|billingId|   product|price|bornClient|clientAge|\n",
      "+---+---------+--------+---------+----------+-----+----------+---------+\n",
      "|  1|     mary|    penn|       10|hamburguer|   15|12-09-1981|  35.5430|\n",
      "|  2|    peter|  parker|       11|       ber|    5|13-08-1982|  34.5457|\n",
      "|  3|      bob|    bush|       12|     pizza|   20|24-07-1982|  34.5457|\n",
      "|  4|     anna|  ibanez|       13|     pasta|   21|13-09-1982|  34.5457|\n",
      "|  5|    alice|   gomez|       14|    mojito|    6|24-07-1982|  34.5457|\n",
      "+---+---------+--------+---------+----------+-----+----------+---------+\n",
      "only showing top 5 rows\n",
      "\n"
     ]
    }
   ],
   "source": [
    "# Printing of original dataFrame:\n",
    "print('Original dataFrame:')\n",
    "transformer.getDataframe().show(5)\n",
    "\n",
    "print(\"Printing calculation of age born date client\")\n",
    "transformer.ageCalculate(\"bornClient\", \"dd-MM-YYYY\", \"clientAge\") \\\n",
    "           .getDataframe() \\\n",
    "           .show(5)"
   ]
  },
  {
   "cell_type": "markdown",
   "metadata": {},
   "source": [
    "#### Changing columns order:"
   ]
  },
  {
   "cell_type": "code",
   "execution_count": 13,
   "metadata": {
    "collapsed": false
   },
   "outputs": [
    {
     "name": "stdout",
     "output_type": "stream",
     "text": [
      "Original dataframe\n",
      "+---+---------+--------+---------+----------+-----+----------+---------+\n",
      "| id|firstName|lastName|billingId|   product|price|bornClient|clientAge|\n",
      "+---+---------+--------+---------+----------+-----+----------+---------+\n",
      "|  1|     mary|    penn|       10|hamburguer|   15|12-09-1981|  35.5430|\n",
      "|  2|    peter|  parker|       11|       ber|    5|13-08-1982|  34.5457|\n",
      "|  3|      bob|    bush|       12|     pizza|   20|24-07-1982|  34.5457|\n",
      "|  4|     anna|  ibanez|       13|     pasta|   21|13-09-1982|  34.5457|\n",
      "|  5|    alice|   gomez|       14|    mojito|    6|24-07-1982|  34.5457|\n",
      "+---+---------+--------+---------+----------+-----+----------+---------+\n",
      "only showing top 5 rows\n",
      "\n",
      "Renaming some columns of dataFrame\n",
      "+-------+---+---------+--------+---------+----------+-----+----------+\n",
      "|    age| id|firstName|lastName|billingId|   product|price|bornClient|\n",
      "+-------+---+---------+--------+---------+----------+-----+----------+\n",
      "|35.5430|  1|     mary|    penn|       10|hamburguer|   15|12-09-1981|\n",
      "|34.5457|  2|    peter|  parker|       11|       ber|    5|13-08-1982|\n",
      "|34.5457|  3|      bob|    bush|       12|     pizza|   20|24-07-1982|\n",
      "|34.5457|  4|     anna|  ibanez|       13|     pasta|   21|13-09-1982|\n",
      "|34.5457|  5|    alice|   gomez|       14|    mojito|    6|24-07-1982|\n",
      "+-------+---+---------+--------+---------+----------+-----+----------+\n",
      "only showing top 5 rows\n",
      "\n"
     ]
    }
   ],
   "source": [
    "# Printing original dataframe:\n",
    "print (\"Original dataframe\")\n",
    "transformer.getDataframe().show(5)\n",
    "print (\"Renaming some columns of dataFrame\")\n",
    "transformer.renameCol(columns=[(\"clientAge\", \"age\")])\n",
    "transformer.getDataframe().show(5)"
   ]
  },
  {
   "cell_type": "markdown",
   "metadata": {},
   "source": [
    "#### Changing positions of columns dataframe:"
   ]
  },
  {
   "cell_type": "code",
   "execution_count": 14,
   "metadata": {
    "collapsed": false
   },
   "outputs": [
    {
     "name": "stdout",
     "output_type": "stream",
     "text": [
      "Original dataframe\n",
      "+-------+---+---------+--------+---------+----------+-----+----------+\n",
      "|    age| id|firstName|lastName|billingId|   product|price|bornClient|\n",
      "+-------+---+---------+--------+---------+----------+-----+----------+\n",
      "|35.5430|  1|     mary|    penn|       10|hamburguer|   15|12-09-1981|\n",
      "|34.5457|  2|    peter|  parker|       11|       ber|    5|13-08-1982|\n",
      "|34.5457|  3|      bob|    bush|       12|     pizza|   20|24-07-1982|\n",
      "|34.5457|  4|     anna|  ibanez|       13|     pasta|   21|13-09-1982|\n",
      "|34.5457|  5|    alice|   gomez|       14|    mojito|    6|24-07-1982|\n",
      "+-------+---+---------+--------+---------+----------+-----+----------+\n",
      "only showing top 5 rows\n",
      "\n",
      "age column moved\n",
      "+---+---------+--------+-------+---------+----------+-----+----------+\n",
      "| id|firstName|lastName|    age|billingId|   product|price|bornClient|\n",
      "+---+---------+--------+-------+---------+----------+-----+----------+\n",
      "|  1|     mary|    penn|35.5430|       10|hamburguer|   15|12-09-1981|\n",
      "|  2|    peter|  parker|34.5457|       11|       ber|    5|13-08-1982|\n",
      "|  3|      bob|    bush|34.5457|       12|     pizza|   20|24-07-1982|\n",
      "|  4|     anna|  ibanez|34.5457|       13|     pasta|   21|13-09-1982|\n",
      "|  5|    alice|   gomez|34.5457|       14|    mojito|    6|24-07-1982|\n",
      "+---+---------+--------+-------+---------+----------+-----+----------+\n",
      "only showing top 5 rows\n",
      "\n"
     ]
    }
   ],
   "source": [
    "# Printing original dataframe:\n",
    "print (\"Original dataframe\")\n",
    "transformer.getDataframe().show(5)\n",
    "\n",
    "# This action is to move column age, just after the lastName column\n",
    "print (\"age column moved\")\n",
    "transformer.moveCol(\"age\", \"lastName\", \"after\")\n",
    "transformer.getDataframe().show(5)"
   ]
  },
  {
   "cell_type": "markdown",
   "metadata": {},
   "source": [
    "#### Setting a custom transformation\n",
    "The core of this function is base on the user define function provide from the lambda function provided in the 'func' argument. \n",
    "\n",
    "In this example, cells that are not greater than 20, are multiplied by 2, the rest of them stay intact"
   ]
  },
  {
   "cell_type": "code",
   "execution_count": 17,
   "metadata": {
    "collapsed": false
   },
   "outputs": [
    {
     "name": "stdout",
     "output_type": "stream",
     "text": [
      "Original dataframe\n",
      "+---+---------+--------+-------+---------+----------+-----+----------+\n",
      "| id|firstName|lastName|    age|billingId|   product|price|bornClient|\n",
      "+---+---------+--------+-------+---------+----------+-----+----------+\n",
      "|  1|     mary|    penn|35.5430|       10|hamburguer|   15|12-09-1981|\n",
      "|  2|    peter|  parker|34.5457|       11|       ber|    5|13-08-1982|\n",
      "|  3|      bob|    bush|34.5457|       12|     pizza|   20|24-07-1982|\n",
      "|  4|     anna|  ibanez|34.5457|       13|     pasta|   21|13-09-1982|\n",
      "|  5|    alice|   gomez|34.5457|       14|    mojito|    6|24-07-1982|\n",
      "+---+---------+--------+-------+---------+----------+-----+----------+\n",
      "only showing top 5 rows\n",
      "\n",
      " Multiplying by 10 a number if value in cell is greater than 20:\n",
      "+---+---------+--------+-------+---------+----------+-----+----------+\n",
      "| id|firstName|lastName|    age|billingId|   product|price|bornClient|\n",
      "+---+---------+--------+-------+---------+----------+-----+----------+\n",
      "|  1|     mary|    penn|35.5430|       10|hamburguer|   15|12-09-1981|\n",
      "|  2|    peter|  parker|34.5457|       11|       ber|    5|13-08-1982|\n",
      "|  3|      bob|    bush|34.5457|       12|     pizza|   20|24-07-1982|\n",
      "|  4|     anna|  ibanez|34.5457|       13|     pasta|  420|13-09-1982|\n",
      "|  5|    alice|   gomez|34.5457|       14|    mojito|    6|24-07-1982|\n",
      "|  6|    bruno| mendoca|34.5457|       15|hamburguer|   15|28-07-1982|\n",
      "|  7|   amanda| briceno|34.5457|       16|     arepa|    8|12-01-1982|\n",
      "|  8|  alberto|aboncado|34.5457|       17|   picahna|  860|18-01-1982|\n",
      "|  9|    bruno| mendoca|34.5457|       15|   beerrrr|    5|28-07-1982|\n",
      "| 10|     kate|   smith|34.5457|       18|      beer|    5|12-01-1982|\n",
      "| 11|  alberto|quintero|   null|       19|        22|    5|      null|\n",
      "| 15|     jose|   reyes|   null|       20|      beel| null|      null|\n",
      "+---+---------+--------+-------+---------+----------+-----+----------+\n",
      "\n"
     ]
    }
   ],
   "source": [
    "# Printing original dataframe:\n",
    "print (\"Original dataframe\")\n",
    "transformer.getDataframe().show(5)\n",
    "\n",
    "print (' Multiplying by 10 a number if value in cell is greater than 20:')\n",
    "# Replacing a number:   \n",
    "func = lambda cell: (cell * 20) if ((cell != None) and (cell > 20)) else cell\n",
    "transformer.setCol(['price'], func, 'integer')\n",
    "transformer.getDataframe().show(20)"
   ]
  },
  {
   "cell_type": "markdown",
   "metadata": {},
   "source": [
    "After the transformation process detailed in the previous cells. It is a good idea to\n",
    "analyze to see if the transformations have solved issued related with special characters, \n",
    "presence of number in column where is to supposed only letters, etc."
   ]
  },
  {
   "cell_type": "markdown",
   "metadata": {},
   "source": [
    "#### Analyzing columns after transformations"
   ]
  },
  {
   "cell_type": "code",
   "execution_count": 18,
   "metadata": {
    "collapsed": false
   },
   "outputs": [
    {
     "data": {
      "text/html": [
       "<table width=50%><tr><td colspan=3 ><b> Column name: </b>id</td></tr><tr><td colspan=3 ><b> Column datatype: </b>int</td></tr><tr><th>Datatype</td><th>Quantity</td><th>Percentage</td></tr><tr><td>None</td><td>0</td><td>0.00 %</td></tr><tr><td>Empty str</td><td>0</td><td>0.00 %</td></tr><tr><td>String</td><td>0</td><td>0.00 %</td></tr><tr><td>Integer</td><td>12</td><td>100.00 %</td></tr><tr><td>Float</td><td>0</td><td>0.00 %</td></tr></table>"
      ],
      "text/plain": [
       "<DfAnalizer.ColumnTables at 0x7f07fedd6320>"
      ]
     },
     "metadata": {},
     "output_type": "display_data"
    },
    {
     "name": "stdout",
     "output_type": "stream",
     "text": [
      "Min value:  1\n",
      "Max value:  15\n"
     ]
    },
    {
     "data": {
      "image/png": "[encoded data removed]",
      "text/plain": [
       "<matplotlib.figure.Figure at 0x7f07fee1f7f0>"
      ]
     },
     "metadata": {},
     "output_type": "display_data"
    },
    {
     "data": {
      "text/html": [
       "<table width=50%><tr><th style='text-align: center'>integers</th></tr><tr><td style='vertical-align: top;text-align: center;'><table width=100%><tr ><td style='text-align: center'><div style='min-height: 20px;'>7</div></td></tr><tr ><td style='text-align: center'><div style='min-height: 20px;'>15</div></td></tr><tr ><td style='text-align: center'><div style='min-height: 20px;'>8</div></td></tr><tr ><td style='text-align: center'><div style='min-height: 20px;'>1</div></td></tr><tr ><td style='text-align: center'><div style='min-height: 20px;'>9</div></td></tr><tr ><td style='text-align: center'><div style='min-height: 20px;'>2</div></td></tr><tr ><td style='text-align: center'><div style='min-height: 20px;'>10</div></td></tr><tr ><td style='text-align: center'><div style='min-height: 20px;'>3</div></td></tr><tr ><td style='text-align: center'><div style='min-height: 20px;'>11</div></td></tr><tr ><td style='text-align: center'><div style='min-height: 20px;'>4</div></td></tr><tr ><td style='text-align: center'><div style='min-height: 20px;'>5</div></td></tr><tr ><td style='text-align: center'><div style='min-height: 20px;'>6</div></td></tr></table></td></tr></table>"
      ],
      "text/plain": [
       "<DfAnalizer.DataTypeTable at 0x7f07fede4a20>"
      ]
     },
     "metadata": {},
     "output_type": "display_data"
    },
    {
     "data": {
      "image/png": "[encoded data removed]",
      "text/plain": [
       "<matplotlib.figure.Figure at 0x7f07fede4a20>"
      ]
     },
     "metadata": {},
     "output_type": "display_data"
    },
    {
     "data": {
      "text/html": [
       "<table width=50%><tr><td colspan=3 ><b> Column name: </b>firstName</td></tr><tr><td colspan=3 ><b> Column datatype: </b>string</td></tr><tr><th>Datatype</td><th>Quantity</td><th>Percentage</td></tr><tr><td>None</td><td>0</td><td>0.00 %</td></tr><tr><td>Empty str</td><td>0</td><td>0.00 %</td></tr><tr><td>String</td><td>12</td><td>100.00 %</td></tr><tr><td>Integer</td><td>0</td><td>0.00 %</td></tr><tr><td>Float</td><td>0</td><td>0.00 %</td></tr></table>"
      ],
      "text/plain": [
       "<DfAnalizer.ColumnTables at 0x7f07fd3a9278>"
      ]
     },
     "metadata": {},
     "output_type": "display_data"
    },
    {
     "data": {
      "image/png": "[encoded data removed]",
      "text/plain": [
       "<matplotlib.figure.Figure at 0x7f07fd2dda20>"
      ]
     },
     "metadata": {},
     "output_type": "display_data"
    },
    {
     "data": {
      "text/html": [
       "<table width=50%><tr><th style='text-align: center'>strings</th></tr><tr><td style='vertical-align: top;text-align: center;'><table width=100%><tr ><td style='text-align: center'><div style='min-height: 20px;'>alice</div></td></tr><tr ><td style='text-align: center'><div style='min-height: 20px;'>amanda</div></td></tr><tr ><td style='text-align: center'><div style='min-height: 20px;'>kate</div></td></tr><tr ><td style='text-align: center'><div style='min-height: 20px;'>jose</div></td></tr><tr ><td style='text-align: center'><div style='min-height: 20px;'>anna</div></td></tr><tr ><td style='text-align: center'><div style='min-height: 20px;'>peter</div></td></tr><tr ><td style='text-align: center'><div style='min-height: 20px;'>mary</div></td></tr><tr ><td style='text-align: center'><div style='min-height: 20px;'>bob</div></td></tr><tr ><td style='text-align: center'><div style='min-height: 20px;'>bruno</div></td></tr><tr ><td style='text-align: center'><div style='min-height: 20px;'>alberto</div></td></tr></table></td></tr></table>"
      ],
      "text/plain": [
       "<DfAnalizer.DataTypeTable at 0x7f07fd310160>"
      ]
     },
     "metadata": {},
     "output_type": "display_data"
    },
    {
     "data": {
      "image/png": "[encoded data removed]",
      "text/plain": [
       "<matplotlib.figure.Figure at 0x7f07fd245898>"
      ]
     },
     "metadata": {},
     "output_type": "display_data"
    },
    {
     "data": {
      "text/html": [
       "<table width=50%><tr><td colspan=3 ><b> Column name: </b>lastName</td></tr><tr><td colspan=3 ><b> Column datatype: </b>string</td></tr><tr><th>Datatype</td><th>Quantity</td><th>Percentage</td></tr><tr><td>None</td><td>0</td><td>0.00 %</td></tr><tr><td>Empty str</td><td>0</td><td>0.00 %</td></tr><tr><td>String</td><td>12</td><td>100.00 %</td></tr><tr><td>Integer</td><td>0</td><td>0.00 %</td></tr><tr><td>Float</td><td>0</td><td>0.00 %</td></tr></table>"
      ],
      "text/plain": [
       "<DfAnalizer.ColumnTables at 0x7f07fd3b3748>"
      ]
     },
     "metadata": {},
     "output_type": "display_data"
    },
    {
     "data": {
      "image/png": "[encoded data removed]",
      "text/plain": [
       "<matplotlib.figure.Figure at 0x7f07fd38a710>"
      ]
     },
     "metadata": {},
     "output_type": "display_data"
    },
    {
     "data": {
      "text/html": [
       "<table width=50%><tr><th style='text-align: center'>strings</th></tr><tr><td style='vertical-align: top;text-align: center;'><table width=100%><tr ><td style='text-align: center'><div style='min-height: 20px;'>parker</div></td></tr><tr ><td style='text-align: center'><div style='min-height: 20px;'>quintero</div></td></tr><tr ><td style='text-align: center'><div style='min-height: 20px;'>bush</div></td></tr><tr ><td style='text-align: center'><div style='min-height: 20px;'>gomez</div></td></tr><tr ><td style='text-align: center'><div style='min-height: 20px;'>aboncado</div></td></tr><tr ><td style='text-align: center'><div style='min-height: 20px;'>smith</div></td></tr><tr ><td style='text-align: center'><div style='min-height: 20px;'>briceno</div></td></tr><tr ><td style='text-align: center'><div style='min-height: 20px;'>reyes</div></td></tr><tr ><td style='text-align: center'><div style='min-height: 20px;'>ibanez</div></td></tr><tr ><td style='text-align: center'><div style='min-height: 20px;'>penn</div></td></tr><tr ><td style='text-align: center'><div style='min-height: 20px;'>mendoca</div></td></tr></table></td></tr></table>"
      ],
      "text/plain": [
       "<DfAnalizer.DataTypeTable at 0x7f07fd2f5b38>"
      ]
     },
     "metadata": {},
     "output_type": "display_data"
    },
    {
     "data": {
      "image/png": "[encoded data removed]",
      "text/plain": [
       "<matplotlib.figure.Figure at 0x7f07fd260ba8>"
      ]
     },
     "metadata": {},
     "output_type": "display_data"
    },
    {
     "data": {
      "text/html": [
       "<table width=50%><tr><td colspan=3 ><b> Column name: </b>age</td></tr><tr><td colspan=3 ><b> Column datatype: </b>string</td></tr><tr><th>Datatype</td><th>Quantity</td><th>Percentage</td></tr><tr><td>None</td><td>2</td><td>16.67 %</td></tr><tr><td>Empty str</td><td>0</td><td>0.00 %</td></tr><tr><td>String</td><td>0</td><td>0.00 %</td></tr><tr><td>Integer</td><td>0</td><td>0.00 %</td></tr><tr><td>Float</td><td>10</td><td>83.33 %</td></tr></table>"
      ],
      "text/plain": [
       "<DfAnalizer.ColumnTables at 0x7f07fd1e2d30>"
      ]
     },
     "metadata": {},
     "output_type": "display_data"
    },
    {
     "data": {
      "image/png": "[encoded data removed]",
      "text/plain": [
       "<matplotlib.figure.Figure at 0x7f07fd4372e8>"
      ]
     },
     "metadata": {},
     "output_type": "display_data"
    },
    {
     "data": {
      "text/html": [
       "<table width=50%><tr><th style='text-align: center'>floats</th></tr><tr><td style='vertical-align: top;text-align: center;'><table width=100%><tr ><td style='text-align: center'><div style='min-height: 20px;'>35.5430</div></td></tr><tr ><td style='text-align: center'><div style='min-height: 20px;'>34.5457</div></td></tr></table></td></tr></table>"
      ],
      "text/plain": [
       "<DfAnalizer.DataTypeTable at 0x7f07fc1ae710>"
      ]
     },
     "metadata": {},
     "output_type": "display_data"
    },
    {
     "data": {
      "image/png": "[encoded data removed]",
      "text/plain": [
       "<matplotlib.figure.Figure at 0x7f07fc1ae710>"
      ]
     },
     "metadata": {},
     "output_type": "display_data"
    },
    {
     "data": {
      "text/html": [
       "<table width=50%><tr><td colspan=3 ><b> Column name: </b>billingId</td></tr><tr><td colspan=3 ><b> Column datatype: </b>int</td></tr><tr><th>Datatype</td><th>Quantity</td><th>Percentage</td></tr><tr><td>None</td><td>0</td><td>0.00 %</td></tr><tr><td>Empty str</td><td>0</td><td>0.00 %</td></tr><tr><td>String</td><td>0</td><td>0.00 %</td></tr><tr><td>Integer</td><td>12</td><td>100.00 %</td></tr><tr><td>Float</td><td>0</td><td>0.00 %</td></tr></table>"
      ],
      "text/plain": [
       "<DfAnalizer.ColumnTables at 0x7f07fc12e9b0>"
      ]
     },
     "metadata": {},
     "output_type": "display_data"
    },
    {
     "name": "stdout",
     "output_type": "stream",
     "text": [
      "Min value:  10\n",
      "Max value:  20\n"
     ]
    },
    {
     "data": {
      "image/png": "[encoded data removed]",
      "text/plain": [
       "<matplotlib.figure.Figure at 0x7f07fc19aac8>"
      ]
     },
     "metadata": {},
     "output_type": "display_data"
    },
    {
     "data": {
      "text/html": [
       "<table width=50%><tr><th style='text-align: center'>integers</th></tr><tr><td style='vertical-align: top;text-align: center;'><table width=100%><tr ><td style='text-align: center'><div style='min-height: 20px;'>15</div></td></tr><tr ><td style='text-align: center'><div style='min-height: 20px;'>16</div></td></tr><tr ><td style='text-align: center'><div style='min-height: 20px;'>17</div></td></tr><tr ><td style='text-align: center'><div style='min-height: 20px;'>10</div></td></tr><tr ><td style='text-align: center'><div style='min-height: 20px;'>18</div></td></tr><tr ><td style='text-align: center'><div style='min-height: 20px;'>11</div></td></tr><tr ><td style='text-align: center'><div style='min-height: 20px;'>19</div></td></tr><tr ><td style='text-align: center'><div style='min-height: 20px;'>12</div></td></tr><tr ><td style='text-align: center'><div style='min-height: 20px;'>20</div></td></tr><tr ><td style='text-align: center'><div style='min-height: 20px;'>13</div></td></tr><tr ><td style='text-align: center'><div style='min-height: 20px;'>14</div></td></tr></table></td></tr></table>"
      ],
      "text/plain": [
       "<DfAnalizer.DataTypeTable at 0x7f07fc10f0f0>"
      ]
     },
     "metadata": {},
     "output_type": "display_data"
    },
    {
     "data": {
      "image/png": "[encoded data removed]",
      "text/plain": [
       "<matplotlib.figure.Figure at 0x7f07fc10f0f0>"
      ]
     },
     "metadata": {},
     "output_type": "display_data"
    },
    {
     "data": {
      "text/html": [
       "<table width=50%><tr><td colspan=3 ><b> Column name: </b>product</td></tr><tr><td colspan=3 ><b> Column datatype: </b>string</td></tr><tr><th>Datatype</td><th>Quantity</td><th>Percentage</td></tr><tr><td>None</td><td>0</td><td>0.00 %</td></tr><tr><td>Empty str</td><td>0</td><td>0.00 %</td></tr><tr><td>String</td><td>11</td><td>91.67 %</td></tr><tr><td>Integer</td><td>1</td><td>8.33 %</td></tr><tr><td>Float</td><td>0</td><td>0.00 %</td></tr></table>"
      ],
      "text/plain": [
       "<DfAnalizer.ColumnTables at 0x7f07fc0d57b8>"
      ]
     },
     "metadata": {},
     "output_type": "display_data"
    },
    {
     "data": {
      "image/png": "[encoded data removed]",
      "text/plain": [
       "<matplotlib.figure.Figure at 0x7f07fc083ac8>"
      ]
     },
     "metadata": {},
     "output_type": "display_data"
    },
    {
     "data": {
      "text/html": [
       "<table width=50%><tr><th style='text-align: center'>integers</th><th style='text-align: center'>strings</th></tr><tr><td style='vertical-align: top;text-align: center;'><table width=100%><tr ><td style='text-align: center'><div style='min-height: 20px;'>22</div></td></tr></table></td><td style='vertical-align: top;text-align: center;'><table width=100%><tr ><td style='text-align: center'><div style='min-height: 20px;'>hamburguer</div></td></tr><tr ><td style='text-align: center'><div style='min-height: 20px;'>pizza</div></td></tr><tr ><td style='text-align: center'><div style='min-height: 20px;'>beerrrr</div></td></tr><tr ><td style='text-align: center'><div style='min-height: 20px;'>beer</div></td></tr><tr ><td style='text-align: center'><div style='min-height: 20px;'>picahna</div></td></tr><tr ><td style='text-align: center'><div style='min-height: 20px;'>beel</div></td></tr><tr ><td style='text-align: center'><div style='min-height: 20px;'>arepa</div></td></tr><tr ><td style='text-align: center'><div style='min-height: 20px;'>mojito</div></td></tr><tr ><td style='text-align: center'><div style='min-height: 20px;'>ber</div></td></tr><tr ><td style='text-align: center'><div style='min-height: 20px;'>pasta</div></td></tr></table></td></tr></table>"
      ],
      "text/plain": [
       "<DfAnalizer.DataTypeTable at 0x7f07f1cc3160>"
      ]
     },
     "metadata": {},
     "output_type": "display_data"
    },
    {
     "data": {
      "image/png": "[encoded data removed]",
      "text/plain": [
       "<matplotlib.figure.Figure at 0x7f07fc083fd0>"
      ]
     },
     "metadata": {},
     "output_type": "display_data"
    },
    {
     "data": {
      "text/html": [
       "<table width=50%><tr><td colspan=3 ><b> Column name: </b>price</td></tr><tr><td colspan=3 ><b> Column datatype: </b>int</td></tr><tr><th>Datatype</td><th>Quantity</td><th>Percentage</td></tr><tr><td>None</td><td>1</td><td>8.33 %</td></tr><tr><td>Empty str</td><td>0</td><td>0.00 %</td></tr><tr><td>String</td><td>0</td><td>0.00 %</td></tr><tr><td>Integer</td><td>11</td><td>91.67 %</td></tr><tr><td>Float</td><td>0</td><td>0.00 %</td></tr></table>"
      ],
      "text/plain": [
       "<DfAnalizer.ColumnTables at 0x7f07fedd6160>"
      ]
     },
     "metadata": {},
     "output_type": "display_data"
    },
    {
     "name": "stdout",
     "output_type": "stream",
     "text": [
      "Min value:  5\n",
      "Max value:  860\n"
     ]
    },
    {
     "data": {
      "image/png": "[encoded data removed]",
      "text/plain": [
       "<matplotlib.figure.Figure at 0x7f07fd35f828>"
      ]
     },
     "metadata": {},
     "output_type": "display_data"
    },
    {
     "data": {
      "text/html": [
       "<table width=50%><tr><th style='text-align: center'>integers</th></tr><tr><td style='vertical-align: top;text-align: center;'><table width=100%><tr ><td style='text-align: center'><div style='min-height: 20px;'>15</div></td></tr><tr ><td style='text-align: center'><div style='min-height: 20px;'>8</div></td></tr><tr ><td style='text-align: center'><div style='min-height: 20px;'>20</div></td></tr><tr ><td style='text-align: center'><div style='min-height: 20px;'>420</div></td></tr><tr ><td style='text-align: center'><div style='min-height: 20px;'>860</div></td></tr><tr ><td style='text-align: center'><div style='min-height: 20px;'>5</div></td></tr><tr ><td style='text-align: center'><div style='min-height: 20px;'>6</div></td></tr></table></td></tr></table>"
      ],
      "text/plain": [
       "<DfAnalizer.DataTypeTable at 0x7f07fc071940>"
      ]
     },
     "metadata": {},
     "output_type": "display_data"
    },
    {
     "data": {
      "image/png": "[encoded data removed]",
      "text/plain": [
       "<matplotlib.figure.Figure at 0x7f07fc071940>"
      ]
     },
     "metadata": {},
     "output_type": "display_data"
    },
    {
     "data": {
      "text/html": [
       "<table width=50%><tr><td colspan=3 ><b> Column name: </b>bornClient</td></tr><tr><td colspan=3 ><b> Column datatype: </b>string</td></tr><tr><th>Datatype</td><th>Quantity</td><th>Percentage</td></tr><tr><td>None</td><td>2</td><td>16.67 %</td></tr><tr><td>Empty str</td><td>0</td><td>0.00 %</td></tr><tr><td>String</td><td>10</td><td>83.33 %</td></tr><tr><td>Integer</td><td>0</td><td>0.00 %</td></tr><tr><td>Float</td><td>0</td><td>0.00 %</td></tr></table>"
      ],
      "text/plain": [
       "<DfAnalizer.ColumnTables at 0x7f07f1cce2b0>"
      ]
     },
     "metadata": {},
     "output_type": "display_data"
    },
    {
     "data": {
      "image/png": "[encoded data removed]",
      "text/plain": [
       "<matplotlib.figure.Figure at 0x7f07fc0bff98>"
      ]
     },
     "metadata": {},
     "output_type": "display_data"
    },
    {
     "data": {
      "text/html": [
       "<table width=50%><tr><th style='text-align: center'>strings</th></tr><tr><td style='vertical-align: top;text-align: center;'><table width=100%><tr ><td style='text-align: center'><div style='min-height: 20px;'>18-01-1982</div></td></tr><tr ><td style='text-align: center'><div style='min-height: 20px;'>12-09-1981</div></td></tr><tr ><td style='text-align: center'><div style='min-height: 20px;'>28-07-1982</div></td></tr><tr ><td style='text-align: center'><div style='min-height: 20px;'>12-01-1982</div></td></tr><tr ><td style='text-align: center'><div style='min-height: 20px;'>13-09-1982</div></td></tr><tr ><td style='text-align: center'><div style='min-height: 20px;'>13-08-1982</div></td></tr><tr ><td style='text-align: center'><div style='min-height: 20px;'>24-07-1982</div></td></tr></table></td></tr></table>"
      ],
      "text/plain": [
       "<DfAnalizer.DataTypeTable at 0x7f07fedd6198>"
      ]
     },
     "metadata": {},
     "output_type": "display_data"
    },
    {
     "data": {
      "image/png": "[encoded data removed]",
      "text/plain": [
       "<matplotlib.figure.Figure at 0x7f07fd31c198>"
      ]
     },
     "metadata": {},
     "output_type": "display_data"
    },
    {
     "name": "stdout",
     "output_type": "stream",
     "text": [
      "Total execution time:  63.559309005737305\n"
     ]
    },
    {
     "data": {
      "text/html": [
       "<table width=50%><tr><th colspan=3>General description</td></tr><tr><th colspan=1>Features</td><th colspan=2>Name or Quantity</td></tr><tr><th colspan=1>File Name</td><td colspan=2>foo.csv</td></tr><tr><th colspan=1>Columns</td><td colspan=2>8</td></tr><tr><th colspan=1>Rows</td><td colspan=2>12</td></tr>"
      ],
      "text/plain": [
       "<DfAnalizer.GeneralDescripTable at 0x7f07f1cc36a0>"
      ]
     },
     "metadata": {},
     "output_type": "display_data"
    }
   ],
   "source": [
    "# Setting the new dataFrame transformed into the analyzer class\n",
    "analyzer.setDataframe(transformer.getDataframe())\n",
    "analyzerJson = analyzer.columnAnalize(\"*\", printType=True, plots=True)"
   ]
  },
  {
   "cell_type": "markdown",
   "metadata": {},
   "source": [
    "It can be seen from output of the analyzer object, that there are columns with numbers\n",
    "even when ceratin column (for example) is supposed to be only of words or letters. \n",
    "\n",
    "In order to solve this problem, operationInType function of DataFrameTransformer class \n",
    "can be used. \n",
    "\n",
    "operationInType function is useful to make operations in a certain element of one dataType. In this particular example, it can be seen in the last output cell (specifically in 'product' column' that are values that don't fit the rest of the data, the aren't strings but they are numbers or empty strings. operationInType can take care about them and clean the column dataFrame."
   ]
  },
  {
   "cell_type": "markdown",
   "metadata": {},
   "source": [
    "In the following example, operationInType of function of DataFrameTransformer class is run in order to converts all posible \n",
    "parsables strings to integer into a null or none value. Notice how the 22 value in product\n",
    "column have been changed, but the rest of the column has remained intact."
   ]
  },
  {
   "cell_type": "markdown",
   "metadata": {},
   "source": [
    "#### Making transformation in the inferred dataType elements of a certains columns"
   ]
  },
  {
   "cell_type": "code",
   "execution_count": 19,
   "metadata": {
    "collapsed": false
   },
   "outputs": [
    {
     "name": "stdout",
     "output_type": "stream",
     "text": [
      "+---+---------+--------+-------+---------+-----+----------+----------+\n",
      "| id|firstName|lastName|    age|billingId|price|bornClient|   product|\n",
      "+---+---------+--------+-------+---------+-----+----------+----------+\n",
      "|  1|     mary|    penn|35.5430|       10|   15|12-09-1981|hamburguer|\n",
      "|  2|    peter|  parker|34.5457|       11|    5|13-08-1982|       ber|\n",
      "|  3|      bob|    bush|34.5457|       12|   20|24-07-1982|     pizza|\n",
      "|  4|     anna|  ibanez|34.5457|       13|  420|13-09-1982|     pasta|\n",
      "|  5|    alice|   gomez|34.5457|       14|    6|24-07-1982|    mojito|\n",
      "|  6|    bruno| mendoca|34.5457|       15|   15|28-07-1982|hamburguer|\n",
      "|  7|   amanda| briceno|34.5457|       16|    8|12-01-1982|     arepa|\n",
      "|  8|  alberto|aboncado|34.5457|       17|  860|18-01-1982|   picahna|\n",
      "|  9|    bruno| mendoca|34.5457|       15|    5|28-07-1982|   beerrrr|\n",
      "| 10|     kate|   smith|34.5457|       18|    5|12-01-1982|      beer|\n",
      "| 11|  alberto|quintero|   null|       19|    5|      null|      null|\n",
      "| 15|     jose|   reyes|   null|       20| null|      null|      beel|\n",
      "+---+---------+--------+-------+---------+-----+----------+----------+\n",
      "\n"
     ]
    }
   ],
   "source": [
    "# This function makes changes or transformation in the column specified only in the cells\n",
    "# that are recognized as the dataType specified. \n",
    "transformer.operationInType([('product', 'integer', None)]).getDataframe().show()"
   ]
  },
  {
   "cell_type": "markdown",
   "metadata": {},
   "source": [
    "Sometimes there a some values that are different but actually are the same. In the product\n",
    "column for example, there are the following values: 'ber', 'beerrr', 'beer', 'beel'. It \n",
    "can be inferred that the correct value is beer and not the rest of them. This problem can\n",
    "be solved with the lookup function of the DataFrameTransformer class."
   ]
  },
  {
   "cell_type": "markdown",
   "metadata": {},
   "source": [
    "#### Replacing multiple string values to a single string"
   ]
  },
  {
   "cell_type": "code",
   "execution_count": 20,
   "metadata": {
    "collapsed": false
   },
   "outputs": [
    {
     "name": "stdout",
     "output_type": "stream",
     "text": [
      "+---+---------+--------+-------+---------+-----+----------+----------+\n",
      "| id|firstName|lastName|    age|billingId|price|bornClient|   product|\n",
      "+---+---------+--------+-------+---------+-----+----------+----------+\n",
      "|  1|     mary|    penn|35.5430|       10|   15|12-09-1981|hamburguer|\n",
      "|  2|    peter|  parker|34.5457|       11|    5|13-08-1982|      beer|\n",
      "|  3|      bob|    bush|34.5457|       12|   20|24-07-1982|     pizza|\n",
      "|  4|     anna|  ibanez|34.5457|       13|  420|13-09-1982|     pasta|\n",
      "|  5|    alice|   gomez|34.5457|       14|    6|24-07-1982|    mojito|\n",
      "|  6|    bruno| mendoca|34.5457|       15|   15|28-07-1982|hamburguer|\n",
      "|  7|   amanda| briceno|34.5457|       16|    8|12-01-1982|     arepa|\n",
      "|  8|  alberto|aboncado|34.5457|       17|  860|18-01-1982|   picahna|\n",
      "|  9|    bruno| mendoca|34.5457|       15|    5|28-07-1982|      beer|\n",
      "| 10|     kate|   smith|34.5457|       18|    5|12-01-1982|      beer|\n",
      "| 11|  alberto|quintero|   null|       19|    5|      null|      null|\n",
      "| 15|     jose|   reyes|   null|       20| null|      null|      beer|\n",
      "+---+---------+--------+-------+---------+-----+----------+----------+\n",
      "\n"
     ]
    }
   ],
   "source": [
    "transformer.lookup('product', strToReplace='beer', listStr=['ber', 'beerrrr', 'beer', 'beel']) \n",
    "transformer.getDataframe().show()"
   ]
  },
  {
   "cell_type": "markdown",
   "metadata": {},
   "source": [
    "As can be notice above, string specified in the list argument 'listStr' have been\n",
    "replaced to 'strToReplace' value. "
   ]
  },
  {
   "cell_type": "markdown",
   "metadata": {},
   "source": [
    "### Chaining and lazy evaluation"
   ]
  },
  {
   "cell_type": "markdown",
   "metadata": {},
   "source": [
    "The past transformations were done step by step, but this can be achieved by chaining\n",
    "all operations into one line of code, like the cell below. This way is much more efficient and scalable because it uses all optimization issues from the lazy evaluation approach."
   ]
  },
  {
   "cell_type": "markdown",
   "metadata": {},
   "source": [
    "All the transformation set before can be done into a single line of code thanks to the \n",
    "chaining feature of the DataFrameTransformer class. This option is a optimal way to \n",
    "make different transformations, because it uses as much as possible all advantages of\n",
    "the lazy evaluation approach. "
   ]
  },
  {
   "cell_type": "code",
   "execution_count": 21,
   "metadata": {
    "collapsed": false
   },
   "outputs": [
    {
     "name": "stdout",
     "output_type": "stream",
     "text": [
      "+---+--------------+------------+---------+------------+-----+----------+----------+\n",
      "| id|     firstName|    lastName|billingId|     product|price|bornClient|  dummyCol|\n",
      "+---+--------------+------------+---------+------------+-----+----------+----------+\n",
      "|  1|        Mary  | PENN&%&/   |       10|hamburguer  |   15|1981/09/12|      null|\n",
      "|  2|      Pe(/(ter|   Parker   |       11|         ber|    5|1982/08/13|     dummy|\n",
      "|  3|           Bob|        BUSH|       12|       pizza|   20|1982/07/24|      this|\n",
      "|  4|     AN%####NA|      Ibañez|       13|       pasta|   21|1982/09/13|    column|\n",
      "|  5|      Alice   |       GOMEZ|       14|      mojito|    6|1982/07/24|        is|\n",
      "|  6|         BRUNO|     Mendoça|       15|hamburguer  |   15|1982/07/28|     going|\n",
      "|  7|        AMANDA|  Briceño   |       16|       arepa|    8|1982/01/12|        to|\n",
      "|  8|   Alberto    |    Abonçado|       17|     picahna|   43|1982/01/18|        be|\n",
      "|  9|Bruno((()))   |     Mendoça|       15|  beerrrr   |    5|1982/07/28|eliminated|\n",
      "| 10|      K@@@@ate|  SMITH     |       18|        beer|    5|1982/01/12|         !|\n",
      "| 11|   Alberto    |    Quintero|       19|          22|    5|        11|         #|\n",
      "| 15|          Jose|       Reyes|       20|        beel| null|      None|      None|\n",
      "+---+--------------+------------+---------+------------+-----+----------+----------+\n",
      "\n",
      "+---+---------+--------+---------+-----+----------+---------+----------+\n",
      "| id|firstName|lastName|billingId|price|bornClient|clientAge|   product|\n",
      "+---+---------+--------+---------+-----+----------+---------+----------+\n",
      "|  1|     mary|    penn|       10|   15|12-09-1981|  35.5430|hamburguer|\n",
      "|  2|    peter|  parker|       11|    5|13-08-1982|  34.5457|      beer|\n",
      "|  3|      bob|    bush|       12|   20|24-07-1982|  34.5457|     pizza|\n",
      "|  4|     anna|  ibanez|       13|   21|13-09-1982|  34.5457|     pasta|\n",
      "|  5|    alice|   gomez|       14|    6|24-07-1982|  34.5457|    mojito|\n",
      "|  6|    bruno| mendoca|       15|   15|28-07-1982|  34.5457|hamburguer|\n",
      "|  7|   amanda| briceno|       16|    8|12-01-1982|  34.5457|     arepa|\n",
      "|  8|  alberto|aboncado|       17|   43|18-01-1982|  34.5457|   picahna|\n",
      "|  9|    bruno| mendoca|       15|    5|28-07-1982|  34.5457|      beer|\n",
      "| 10|     kate|   smith|       18|    5|12-01-1982|  34.5457|      beer|\n",
      "| 11|  alberto|quintero|       19|    5|      null|     null|      null|\n",
      "| 15|     jose|   reyes|       20| null|      null|     null|      beer|\n",
      "+---+---------+--------+---------+-----+----------+---------+----------+\n",
      "\n"
     ]
    }
   ],
   "source": [
    "# Instanciate DataFrameTransfomer\n",
    "transformer = DataFrameTransformer(df)\n",
    "# Get original dataFrame to show it.\n",
    "transformer.getDataframe().show()\n",
    "\n",
    "# Chaining function transformations\n",
    "transformer.trimCol(\"*\") \\\n",
    "           .removeSpecialChars(\"*\") \\\n",
    "           .clearAccents(\"*\") \\\n",
    "           .lowerCase(\"*\") \\\n",
    "           .dropCol(\"dummyCol\") \\\n",
    "           .dateTransform(\"bornClient\", \"yyyyMMdd\", \"dd-MM-YYYY\") \\\n",
    "           .ageCalculate(\"bornClient\", \"dd-MM-YYYY\", \"clientAge\") \\\n",
    "           .operationInType([('product', 'integer', None)]) \\\n",
    "           .lookup('product', strToReplace='beer', \n",
    "                   listStr=['ber', 'beerrrr', 'beer', 'beel']) \\\n",
    "        \n",
    "        \n",
    "transformer.getDataframe().show()"
   ]
  }
 ],
 "metadata": {
  "kernelspec": {
   "display_name": "Python 3",
   "language": "python",
   "name": "python3"
  },
  "language_info": {
   "codemirror_mode": {
    "name": "ipython",
    "version": 3
   },
   "file_extension": ".py",
   "mimetype": "text/x-python",
   "name": "python",
   "nbconvert_exporter": "python",
   "pygments_lexer": "ipython3",
   "version": "3.5.1"
  }
 },
 "nbformat": 4,
 "nbformat_minor": 0
}
